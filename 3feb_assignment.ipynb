{
 "cells": [
  {
   "cell_type": "markdown",
   "id": "ccfd4e54-a99e-413a-9917-08ff7f066207",
   "metadata": {},
   "source": [
    "**Q1**. Which keyword is used to create a function? Create a function to return a list of odd numbers in the range of 1 to 25.\n"
   ]
  },
  {
   "cell_type": "markdown",
   "id": "220d3fb3-83ff-493a-bc99-9181d13e70c3",
   "metadata": {},
   "source": [
    "**Answer**. def keyword is used to define a function."
   ]
  },
  {
   "cell_type": "code",
   "execution_count": 1,
   "id": "3260f750-5e1b-4843-9ffe-3e66b52eff5c",
   "metadata": {},
   "outputs": [],
   "source": [
    "## function to return a list of odd numbers in the range of 1 to 25.\n",
    "a=range(1,25)\n",
    "def odd_l(a):\n",
    "    l=[]\n",
    "    for i in a:\n",
    "        if i%2!=0:\n",
    "            l.append(i)\n",
    "    return l       "
   ]
  },
  {
   "cell_type": "code",
   "execution_count": 2,
   "id": "4953475e-995f-4e2c-9b9c-9ee0b48f09b4",
   "metadata": {},
   "outputs": [
    {
     "data": {
      "text/plain": [
       "[1, 3, 5, 7, 9, 11, 13, 15, 17, 19, 21, 23]"
      ]
     },
     "execution_count": 2,
     "metadata": {},
     "output_type": "execute_result"
    }
   ],
   "source": [
    "odd_l(a)"
   ]
  },
  {
   "cell_type": "markdown",
   "id": "207f42ba-9dc8-4c48-8026-ccf016056ca5",
   "metadata": {},
   "source": [
    " **Q2**.Why *args and **kwargs is used in some functions? Create a function each for *args and **kwargs to \n",
    "demonstrate their use"
   ]
  },
  {
   "cell_type": "markdown",
   "id": "44d53d5a-9dbd-4afa-8423-c6d7f6b6368d",
   "metadata": {},
   "source": [
    "**Answer**.The special syntax *args in function defintions is used to pass a variable number of arguments to a function .IT is used to pass a non  key worded,variable-lenght argument list.The special syntax **kwargs in function used to pass a keyword ,variable-length argument list .\n"
   ]
  },
  {
   "cell_type": "code",
   "execution_count": 2,
   "id": "ce4f994e-3430-444c-a2be-0b1fc4c57359",
   "metadata": {},
   "outputs": [],
   "source": [
    "##example for *args\n",
    "def test1(*args,a):\n",
    "    return args,a"
   ]
  },
  {
   "cell_type": "code",
   "execution_count": 4,
   "id": "618e3b35-19ed-4c06-b7ae-35464beef26d",
   "metadata": {},
   "outputs": [
    {
     "data": {
      "text/plain": [
       "((1, 2, 3), 'awadhgesh')"
      ]
     },
     "execution_count": 4,
     "metadata": {},
     "output_type": "execute_result"
    }
   ],
   "source": [
    "test1(1,2,3,a=\"awadhgesh\")"
   ]
  },
  {
   "cell_type": "code",
   "execution_count": 5,
   "id": "89f784a1-ef93-4535-84ee-f1d077c5a044",
   "metadata": {},
   "outputs": [],
   "source": [
    "##example for **kwargs\n",
    "def test2(**kwargs):\n",
    "    return kwargs"
   ]
  },
  {
   "cell_type": "code",
   "execution_count": 6,
   "id": "8154d903-40ed-4147-b6b8-ccfdedd0d71b",
   "metadata": {},
   "outputs": [
    {
     "data": {
      "text/plain": [
       "{'a': 1, 'b': 2, 'l': [4, 5, 5], 't': (7, 8, 90)}"
      ]
     },
     "execution_count": 6,
     "metadata": {},
     "output_type": "execute_result"
    }
   ],
   "source": [
    "test2(a=1,b=2,l=[4,5,5],t=(7,8,90))"
   ]
  },
  {
   "cell_type": "markdown",
   "id": "f5768139-c8fb-42df-95f7-ea4ab7982797",
   "metadata": {},
   "source": [
    "**Q3**.  What is an iterator in python? Name the method used to initialise the iterator object and the method \n",
    "used for iteration. Use these methods to print the first five elements of the given list [2, 4, 6, 8, 10, 12, 14, 16, \n",
    "18, 20]."
   ]
  },
  {
   "cell_type": "markdown",
   "id": "1251a7da-5c4a-4a68-b926-53cdf851779a",
   "metadata": {},
   "source": [
    "**Answer**.An iterator is an object that contains countable number of values .It can be iterated upon ,meaning that you can traverse through all the valuse .Iterator has method iter() and next().And also use a \"for\"loop to iterate through an iterable object."
   ]
  },
  {
   "cell_type": "code",
   "execution_count": 8,
   "id": "24547eb7-edd0-4ced-8b72-fe84b4bff46b",
   "metadata": {},
   "outputs": [
    {
     "name": "stdout",
     "output_type": "stream",
     "text": [
      "awadhesh\n",
      "gaurav\n",
      "shubham\n"
     ]
    }
   ],
   "source": [
    "tuple1=(\"awadhesh\",\"gaurav\",\"shubham\")\n",
    "myit=iter(tuple1)\n",
    "print(next(myit))\n",
    "print(next(myit))\n",
    "print(next(myit))"
   ]
  },
  {
   "cell_type": "code",
   "execution_count": 9,
   "id": "0334f674-dd47-4afc-8186-ad05058e7cf2",
   "metadata": {},
   "outputs": [
    {
     "name": "stdout",
     "output_type": "stream",
     "text": [
      "awadhesh\n",
      "gaurav\n",
      "shubham\n"
     ]
    }
   ],
   "source": [
    "tuple1=(\"awadhesh\",\"gaurav\",\"shubham\")\n",
    "for i in tuple1:\n",
    "    print(i)"
   ]
  },
  {
   "cell_type": "markdown",
   "id": "3834d21b-017a-49d1-aaf7-f957b1b42785",
   "metadata": {},
   "source": [
    "**Q4**.  What is a generator function in python? Why yield keyword is used? Give an example of a generator \n",
    "function."
   ]
  },
  {
   "cell_type": "markdown",
   "id": "637c3621-de5d-4383-b0b7-e2f6253762b8",
   "metadata": {},
   "source": [
    "**Answer**. A generator is a function that return an iterator that produce a sequence of values when iterated over. Generator are useful when we want to produce a large number of values ,but we do not want to store all of them in memory at once.\"yield\"keyword is used to produce a value from the generator ."
   ]
  },
  {
   "cell_type": "code",
   "execution_count": 11,
   "id": "883034b0-8be2-4811-a254-4ffe7650060d",
   "metadata": {},
   "outputs": [
    {
     "name": "stdout",
     "output_type": "stream",
     "text": [
      "0\n",
      "1\n",
      "2\n",
      "3\n",
      "4\n",
      "5\n",
      "6\n",
      "7\n",
      "8\n",
      "9\n"
     ]
    }
   ],
   "source": [
    "##example of genertaor \n",
    "def my_generator(n):\n",
    "    value=0\n",
    "    while value < n:\n",
    "        yield value\n",
    "        value+=1\n",
    "for value in my_generator(10):\n",
    "    print(value)"
   ]
  },
  {
   "cell_type": "markdown",
   "id": "ec067627-a3e9-437d-91ee-4f6ee98586ad",
   "metadata": {},
   "source": [
    "**Q5**. Create a generator function for prime numbers less than 1000. Use the next() method to print the \n",
    "first 20 prime numbers."
   ]
  },
  {
   "cell_type": "code",
   "execution_count": 2,
   "id": "bebdbe86-dae8-4f51-89e2-6088c3ae3d2e",
   "metadata": {},
   "outputs": [],
   "source": [
    "def primes():\n",
    "    \"\"\"\n",
    "    Generator function for prime numbers less than 1000\n",
    "    \"\"\"\n",
    "    for num in range(2, 1000):\n",
    "        if all(num % i != 0 for i in range(2, int(num ** 0.5) + 1)):\n",
    "            yield num\n"
   ]
  },
  {
   "cell_type": "code",
   "execution_count": 4,
   "id": "5ac91627-0c31-41f4-8de9-8a6b09be4e21",
   "metadata": {},
   "outputs": [
    {
     "name": "stdout",
     "output_type": "stream",
     "text": [
      "2\n",
      "3\n",
      "5\n",
      "7\n",
      "11\n",
      "13\n",
      "17\n",
      "19\n",
      "23\n",
      "29\n",
      "31\n",
      "37\n",
      "41\n",
      "43\n",
      "47\n",
      "53\n",
      "59\n",
      "61\n",
      "67\n",
      "71\n"
     ]
    }
   ],
   "source": [
    "prime_generator = primes()\n",
    "for i in range(20):\n",
    "    print(next(prime_generator))\n"
   ]
  },
  {
   "cell_type": "code",
   "execution_count": null,
   "id": "bbff56c9-ae4f-4657-a527-2c7d3828d759",
   "metadata": {},
   "outputs": [],
   "source": []
  }
 ],
 "metadata": {
  "kernelspec": {
   "display_name": "Python 3 (ipykernel)",
   "language": "python",
   "name": "python3"
  },
  "language_info": {
   "codemirror_mode": {
    "name": "ipython",
    "version": 3
   },
   "file_extension": ".py",
   "mimetype": "text/x-python",
   "name": "python",
   "nbconvert_exporter": "python",
   "pygments_lexer": "ipython3",
   "version": "3.10.8"
  }
 },
 "nbformat": 4,
 "nbformat_minor": 5
}
